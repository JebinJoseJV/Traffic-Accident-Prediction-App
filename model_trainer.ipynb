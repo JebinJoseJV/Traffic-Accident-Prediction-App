{
  "cells": [
    {
      "cell_type": "markdown",
      "metadata": {
        "id": "YxC5ArNQcIBt"
      },
      "source": [
        "### Import the necessary libraries"
      ]
    },
    {
      "cell_type": "code",
      "execution_count": 14,
      "metadata": {
        "id": "Iy2GojqAV_dL"
      },
      "outputs": [],
      "source": [
        "import numpy as np\n",
        "import pandas as pd\n",
        "import pickle\n",
        "from sklearn.preprocessing import LabelEncoder\n",
        "from sklearn.model_selection import train_test_split, GridSearchCV\n",
        "from sklearn.ensemble import RandomForestClassifier, GradientBoostingClassifier\n",
        "from sklearn.linear_model import LogisticRegression\n",
        "from sklearn.tree import DecisionTreeClassifier\n",
        "from sklearn.neural_network import MLPClassifier\n",
        "from sklearn.metrics import accuracy_score, classification_report, confusion_matrix\n",
        "\n",
        "import warnings\n",
        "warnings.filterwarnings('ignore')"
      ]
    },
    {
      "cell_type": "markdown",
      "metadata": {
        "id": "7mh1OauhcM4r"
      },
      "source": [
        "#### Read the data"
      ]
    },
    {
      "cell_type": "code",
      "execution_count": 15,
      "metadata": {
        "id": "57oNjPHQV_dO"
      },
      "outputs": [],
      "source": [
        "df = pd.read_csv('traffic_accidents.csv')\n",
        "df.drop(columns=['crash_date'], inplace=True, errors='ignore')"
      ]
    },
    {
      "cell_type": "markdown",
      "metadata": {
        "id": "lGYQ0jQFcQoI"
      },
      "source": [
        "#### Label Encoder"
      ]
    },
    {
      "cell_type": "code",
      "execution_count": 16,
      "metadata": {
        "id": "1QoZNElVV_dO"
      },
      "outputs": [],
      "source": [
        "label_encoders = {}\n",
        "categorical_columns = df.select_dtypes(include=['object']).columns"
      ]
    },
    {
      "cell_type": "code",
      "execution_count": 17,
      "metadata": {
        "id": "bHVKxmjEV_dO"
      },
      "outputs": [],
      "source": [
        "for column in categorical_columns:\n",
        "    le = LabelEncoder()\n",
        "    df[column] = le.fit_transform(df[column])\n",
        "    label_encoders[column] = le"
      ]
    },
    {
      "cell_type": "code",
      "execution_count": 18,
      "metadata": {
        "id": "ubomv-AdV_dO"
      },
      "outputs": [],
      "source": [
        "with open('label_encoders.pkl', 'wb') as f:\n",
        "    pickle.dump(label_encoders, f)"
      ]
    },
    {
      "cell_type": "code",
      "execution_count": 19,
      "metadata": {
        "id": "PRt5ExCcV_dP"
      },
      "outputs": [],
      "source": [
        "X = df.drop(columns=['crash_type'])\n",
        "y = df['crash_type']\n",
        "X_train, X_test, y_train, y_test = train_test_split(X, y, test_size=0.2, random_state=42)"
      ]
    },
    {
      "cell_type": "code",
      "execution_count": 20,
      "metadata": {
        "id": "fEvaEXrJV_dP"
      },
      "outputs": [],
      "source": [
        "with open('feature_names.pkl', 'wb') as f:\n",
        "    pickle.dump(list(X_train.columns), f)"
      ]
    },
    {
      "cell_type": "markdown",
      "metadata": {},
      "source": [
        "#### Load the models"
      ]
    },
    {
      "cell_type": "code",
      "execution_count": 21,
      "metadata": {
        "id": "h9vYt7brV_dP"
      },
      "outputs": [],
      "source": [
        "models = {\n",
        "    'Logistic Regression': LogisticRegression(),\n",
        "    'Decision Tree Classifier': DecisionTreeClassifier(),\n",
        "    'Random Forest Classifier': RandomForestClassifier(),\n",
        "    'Gradient Boosting Classifier': GradientBoostingClassifier(),\n",
        "    'Multi-Layer Perceptron': MLPClassifier()\n",
        "}"
      ]
    },
    {
      "cell_type": "code",
      "execution_count": 22,
      "metadata": {
        "id": "nk7eYx0gV_dP"
      },
      "outputs": [],
      "source": [
        "param_grids = {\n",
        "    'Logistic Regression': {'C': [0.1, 1, 10]},\n",
        "    'Decision Tree Classifier': {'max_depth': [3, 5, 7], 'min_samples_split': [2, 5, 10]}\n",
        "}"
      ]
    },
    {
      "cell_type": "code",
      "execution_count": 23,
      "metadata": {
        "id": "UT-UuV7dV_dP"
      },
      "outputs": [],
      "source": [
        "\n",
        "best_model = None\n",
        "best_score = -np.inf"
      ]
    },
    {
      "cell_type": "code",
      "execution_count": 24,
      "metadata": {
        "colab": {
          "base_uri": "https://localhost:8080/"
        },
        "id": "2XvdqnHVV_dP",
        "outputId": "d5a89d08-da05-4c8d-ee0a-7e3f48b0b0d9"
      },
      "outputs": [
        {
          "name": "stdout",
          "output_type": "stream",
          "text": [
            "Model: Logistic Regression\n",
            "Accuracy Score: 0.8311\n",
            "Classification Report:\n",
            "               precision    recall  f1-score   support\n",
            "\n",
            "           0       0.93      0.67      0.78     18512\n",
            "           1       0.79      0.96      0.86     23350\n",
            "\n",
            "    accuracy                           0.83     41862\n",
            "   macro avg       0.86      0.81      0.82     41862\n",
            "weighted avg       0.85      0.83      0.83     41862\n",
            "\n",
            "Confusion Matrix:\n",
            " [[12382  6130]\n",
            " [  942 22408]]\n",
            "============================================================\n",
            "Model: Decision Tree Classifier\n",
            "Accuracy Score: 0.8408\n",
            "Classification Report:\n",
            "               precision    recall  f1-score   support\n",
            "\n",
            "           0       0.94      0.69      0.79     18512\n",
            "           1       0.80      0.96      0.87     23350\n",
            "\n",
            "    accuracy                           0.84     41862\n",
            "   macro avg       0.87      0.82      0.83     41862\n",
            "weighted avg       0.86      0.84      0.84     41862\n",
            "\n",
            "Confusion Matrix:\n",
            " [[12732  5780]\n",
            " [  883 22467]]\n",
            "============================================================\n",
            "Model: Random Forest Classifier\n",
            "Accuracy Score: 0.8368\n",
            "Classification Report:\n",
            "               precision    recall  f1-score   support\n",
            "\n",
            "           0       0.86      0.75      0.80     18512\n",
            "           1       0.82      0.90      0.86     23350\n",
            "\n",
            "    accuracy                           0.84     41862\n",
            "   macro avg       0.84      0.83      0.83     41862\n",
            "weighted avg       0.84      0.84      0.84     41862\n",
            "\n",
            "Confusion Matrix:\n",
            " [[13922  4590]\n",
            " [ 2243 21107]]\n",
            "============================================================\n",
            "Model: Gradient Boosting Classifier\n",
            "Accuracy Score: 0.8460\n",
            "Classification Report:\n",
            "               precision    recall  f1-score   support\n",
            "\n",
            "           0       0.91      0.73      0.81     18512\n",
            "           1       0.81      0.94      0.87     23350\n",
            "\n",
            "    accuracy                           0.85     41862\n",
            "   macro avg       0.86      0.83      0.84     41862\n",
            "weighted avg       0.85      0.85      0.84     41862\n",
            "\n",
            "Confusion Matrix:\n",
            " [[13447  5065]\n",
            " [ 1380 21970]]\n",
            "============================================================\n",
            "Model: Multi-Layer Perceptron\n",
            "Accuracy Score: 0.8427\n",
            "Classification Report:\n",
            "               precision    recall  f1-score   support\n",
            "\n",
            "           0       0.92      0.70      0.80     18512\n",
            "           1       0.80      0.95      0.87     23350\n",
            "\n",
            "    accuracy                           0.84     41862\n",
            "   macro avg       0.86      0.83      0.83     41862\n",
            "weighted avg       0.86      0.84      0.84     41862\n",
            "\n",
            "Confusion Matrix:\n",
            " [[12988  5524]\n",
            " [ 1059 22291]]\n",
            "============================================================\n",
            "Best Model: GradientBoostingClassifier()\n",
            "Best Accuracy Score: 0.8460\n"
          ]
        }
      ],
      "source": [
        "for model_name, model in models.items():\n",
        "    if model_name in param_grids:\n",
        "        grid_search = GridSearchCV(model, param_grids[model_name], cv=5, scoring='accuracy')\n",
        "        grid_search.fit(X_train, y_train)\n",
        "        best_estimator = grid_search.best_estimator_\n",
        "    else:\n",
        "        model.fit(X_train, y_train)\n",
        "        best_estimator = model\n",
        "\n",
        "    y_pred = best_estimator.predict(X_test)\n",
        "\n",
        "    \n",
        "    print(f\"Model: {model_name}\")\n",
        "    print(f\"Accuracy Score: {accuracy_score(y_test, y_pred):.4f}\")\n",
        "    print(\"Classification Report:\\n\", classification_report(y_test, y_pred))\n",
        "    print(\"Confusion Matrix:\\n\", confusion_matrix(y_test, y_pred))\n",
        "    print(\"=\" * 60)\n",
        "\n",
        "    \n",
        "    with open(f'{model_name.replace(\" \", \"_\").lower()}.pkl', 'wb') as file:\n",
        "        pickle.dump(best_estimator, file)\n",
        "\n",
        "    \n",
        "    if accuracy_score(y_test, y_pred) > best_score:\n",
        "        best_model = best_estimator\n",
        "        best_score = accuracy_score(y_test, y_pred)\n",
        "\n",
        "\n",
        "with open('best_model.pkl', 'wb') as file:\n",
        "    pickle.dump(best_model, file)\n",
        "\n",
        "print(f\"Best Model: {best_model}\")\n",
        "print(f\"Best Accuracy Score: {best_score:.4f}\")"
      ]
    },
    {
      "cell_type": "code",
      "execution_count": 24,
      "metadata": {
        "id": "SXf1pxOybk5f"
      },
      "outputs": [],
      "source": []
    }
  ],
  "metadata": {
    "colab": {
      "provenance": []
    },
    "kernelspec": {
      "display_name": "Python 3",
      "name": "python3"
    },
    "language_info": {
      "codemirror_mode": {
        "name": "ipython",
        "version": 3
      },
      "file_extension": ".py",
      "mimetype": "text/x-python",
      "name": "python",
      "nbconvert_exporter": "python",
      "pygments_lexer": "ipython3",
      "version": "3.10.0"
    }
  },
  "nbformat": 4,
  "nbformat_minor": 0
}
